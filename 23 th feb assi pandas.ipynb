{
 "cells": [
  {
   "cell_type": "markdown",
   "id": "2c9034bc-c24c-4b22-b7ed-255524a6ab6d",
   "metadata": {},
   "source": [
    "# Q1. Create a Pandas Series that contains the following data: 4, 8, 15, 16, 23, and 42. Then, print the series."
   ]
  },
  {
   "cell_type": "code",
   "execution_count": 6,
   "id": "4d4b31f9-91b2-4e60-9229-84f4719d4d35",
   "metadata": {},
   "outputs": [
    {
     "name": "stdout",
     "output_type": "stream",
     "text": [
      "0     4\n",
      "1     8\n",
      "2    15\n",
      "3    16\n",
      "4    23\n",
      "5    42\n",
      "dtype: int64\n"
     ]
    }
   ],
   "source": [
    "import pandas \n",
    "Following_data = [ 4, 8, 15, 16, 23,42]\n",
    "data = pandas.Series(Following_data)\n",
    "print(data)"
   ]
  },
  {
   "cell_type": "markdown",
   "id": "3bd29798-ffca-4886-90b2-ff7623064d0e",
   "metadata": {},
   "source": [
    "# Q2. Create a variable of list type containing 10 elements in it, and apply pandas.Series function on the\n",
    "# variable print it."
   ]
  },
  {
   "cell_type": "code",
   "execution_count": 11,
   "id": "4730e99b-d968-4d54-881b-1b1d854729be",
   "metadata": {},
   "outputs": [
    {
     "name": "stdout",
     "output_type": "stream",
     "text": [
      "0    3\n",
      "1    5\n",
      "2    6\n",
      "3    1\n",
      "4    4\n",
      "5    7\n",
      "6    8\n",
      "7    0\n",
      "8    9\n",
      "9    2\n",
      "dtype: int64\n"
     ]
    }
   ],
   "source": [
    "Var = [ 3,5,6,1,4,7,8,0,9,2 ]\n",
    "apply = pandas.Series(Var)\n",
    "print(apply)"
   ]
  },
  {
   "cell_type": "markdown",
   "id": "bbd62ab8-0325-498f-9ff2-ce8686d4d7b6",
   "metadata": {},
   "source": [
    "# Q3. Create a Pandas DataFrame that contains the following data:\n",
    "# Then, print the DataFrame."
   ]
  },
  {
   "cell_type": "code",
   "execution_count": 14,
   "id": "16373cf3-a938-4d5e-92be-990fe73a1ce5",
   "metadata": {},
   "outputs": [
    {
     "name": "stdout",
     "output_type": "stream",
     "text": [
      "     Name  Age  Gender\n",
      "0     BOB   25    Male\n",
      "1   Alice   30  Female\n",
      "2  Claire   27  Female\n"
     ]
    }
   ],
   "source": [
    "# Answer3.\n",
    "import pandas\n",
    "Data_f = {\n",
    "    \"Name\" : [ 'BOB' , 'Alice' , 'Claire' ] ,\n",
    "    \"Age\" : [ 25 , 30 , 27 ] ,\n",
    "    \"Gender\" : [ 'Male' , 'Female' , 'Female' ] ,\n",
    "}\n",
    "new_var = pandas.DataFrame(Data_f)\n",
    "print(new_var)"
   ]
  },
  {
   "cell_type": "markdown",
   "id": "e3251716-fcf5-4259-b287-ac61363cc744",
   "metadata": {},
   "source": [
    "# Q4. What is ‘DataFrame’ in pandas and how is it different from pandas.series? Explain with an example.\n",
    "\n",
    "# Answer: A Pandas DataFrame is a 2 dimensional data structure.Like a Table with row and column and it is a different datatype form Series. A collection of Series objects, where each Series represents a column of the DataFrame. \n",
    "# Here's the Example of Series and Dataframe  -"
   ]
  },
  {
   "cell_type": "code",
   "execution_count": 8,
   "id": "b2487aa1-a02f-4934-a9a6-39bd1d6b2912",
   "metadata": {},
   "outputs": [
    {
     "name": "stdout",
     "output_type": "stream",
     "text": [
      "0       1\n",
      "1      35\n",
      "2       6\n",
      "3    Golu\n",
      "4    Monu\n",
      "dtype: object\n"
     ]
    }
   ],
   "source": [
    "# Series.\n",
    "\n",
    "import pandas\n",
    "Data_for_Series = [1,35,6, 'Golu' , 'Monu' ]\n",
    "Pandas_Series = pandas.Series(Data_for_Series)\n",
    "print(Pandas_Series)"
   ]
  },
  {
   "cell_type": "code",
   "execution_count": 10,
   "id": "ef7626b8-4e22-4227-9461-60a3d0105243",
   "metadata": {},
   "outputs": [
    {
     "name": "stdout",
     "output_type": "stream",
     "text": [
      "      Name  Class  Time\n",
      "0  Kamlesh      2   9am\n",
      "1   Mahesh      2  10am\n",
      "2    Nazim      2  11am\n"
     ]
    }
   ],
   "source": [
    "# DataFrame.\n",
    "\n",
    "Data = {\n",
    "    \"Name\" : [ 'Kamlesh','Mahesh','Nazim' ],\n",
    "    \"Class\" : [2 , 2 , 2],\n",
    "    \"Time\" : ['9am','10am','11am']\n",
    "}  \n",
    "DataFrame = pandas.DataFrame(Data)\n",
    "print(DataFrame)"
   ]
  },
  {
   "cell_type": "markdown",
   "id": "5c0e0ca8-bec3-499b-8c16-901340f817d8",
   "metadata": {
    "tags": []
   },
   "source": [
    "# Q5. What are some common functions you can use to manipulate data in a Pandas DataFrame?Can you give an example of when you might use one of these functions?"
   ]
  },
  {
   "cell_type": "code",
   "execution_count": null,
   "id": "01f5b828-cf22-4a3f-8f3b-e76c46846f32",
   "metadata": {},
   "outputs": [],
   "source": [
    "Answer5.\n",
    "Pandas provide a wide range of functions to manipulating the data in a DataFrame.\n",
    "1.head() and tail() = it is used to show the first and last 5 rows.\n",
    "2.shape = it is used to show the number of the rows and columns.\n",
    "3.info() = it is used to show the information about the data.\n",
    "4.describe() = it is used to show the summary of the data.\n",
    "5.loc[] = it is used to show the rows and columns.\n",
    "6.drop() = it is used to drop the rows and columns.\n",
    "7.groupby() = it is used to group the data.\n",
    "8.merge() = it is used to merge the data."
   ]
  },
  {
   "cell_type": "code",
   "execution_count": 2,
   "id": "1a897da1-ef03-4e17-8b35-aa9d79e99e24",
   "metadata": {},
   "outputs": [
    {
     "name": "stdout",
     "output_type": "stream",
     "text": [
      "(4, 3)\n"
     ]
    }
   ],
   "source": [
    "import pandas\n",
    "data = {\n",
    "    'Name': ['Alice', 'Bob', 'Charlie', 'David'],\n",
    "    'Age': [25, 30, 22, 28],\n",
    "    'City': ['New York', 'London', 'Paris', 'Tokyo']\n",
    "}\n",
    "\n",
    "df = pandas.DataFrame(data)\n",
    "print(df.shape)"
   ]
  },
  {
   "cell_type": "code",
   "execution_count": 3,
   "id": "eea04b8f-3668-400a-9ef3-81a1fa1a9eaf",
   "metadata": {},
   "outputs": [
    {
     "data": {
      "text/html": [
       "<div>\n",
       "<style scoped>\n",
       "    .dataframe tbody tr th:only-of-type {\n",
       "        vertical-align: middle;\n",
       "    }\n",
       "\n",
       "    .dataframe tbody tr th {\n",
       "        vertical-align: top;\n",
       "    }\n",
       "\n",
       "    .dataframe thead th {\n",
       "        text-align: right;\n",
       "    }\n",
       "</style>\n",
       "<table border=\"1\" class=\"dataframe\">\n",
       "  <thead>\n",
       "    <tr style=\"text-align: right;\">\n",
       "      <th></th>\n",
       "      <th>Name</th>\n",
       "      <th>Age</th>\n",
       "      <th>City</th>\n",
       "    </tr>\n",
       "  </thead>\n",
       "  <tbody>\n",
       "    <tr>\n",
       "      <th>0</th>\n",
       "      <td>Alice</td>\n",
       "      <td>25</td>\n",
       "      <td>New York</td>\n",
       "    </tr>\n",
       "  </tbody>\n",
       "</table>\n",
       "</div>"
      ],
      "text/plain": [
       "    Name  Age      City\n",
       "0  Alice   25  New York"
      ]
     },
     "execution_count": 3,
     "metadata": {},
     "output_type": "execute_result"
    }
   ],
   "source": [
    "df.head(1)"
   ]
  },
  {
   "cell_type": "code",
   "execution_count": 4,
   "id": "c041fe12-dfdf-4e2f-97cd-ab8e622854d8",
   "metadata": {},
   "outputs": [
    {
     "data": {
      "text/html": [
       "<div>\n",
       "<style scoped>\n",
       "    .dataframe tbody tr th:only-of-type {\n",
       "        vertical-align: middle;\n",
       "    }\n",
       "\n",
       "    .dataframe tbody tr th {\n",
       "        vertical-align: top;\n",
       "    }\n",
       "\n",
       "    .dataframe thead th {\n",
       "        text-align: right;\n",
       "    }\n",
       "</style>\n",
       "<table border=\"1\" class=\"dataframe\">\n",
       "  <thead>\n",
       "    <tr style=\"text-align: right;\">\n",
       "      <th></th>\n",
       "      <th>Name</th>\n",
       "      <th>Age</th>\n",
       "      <th>City</th>\n",
       "    </tr>\n",
       "  </thead>\n",
       "  <tbody>\n",
       "    <tr>\n",
       "      <th>3</th>\n",
       "      <td>David</td>\n",
       "      <td>28</td>\n",
       "      <td>Tokyo</td>\n",
       "    </tr>\n",
       "  </tbody>\n",
       "</table>\n",
       "</div>"
      ],
      "text/plain": [
       "    Name  Age   City\n",
       "3  David   28  Tokyo"
      ]
     },
     "execution_count": 4,
     "metadata": {},
     "output_type": "execute_result"
    }
   ],
   "source": [
    "df.tail(1)"
   ]
  },
  {
   "cell_type": "code",
   "execution_count": 5,
   "id": "d9987740-367d-4647-b8cc-6643a0d1239b",
   "metadata": {},
   "outputs": [
    {
     "data": {
      "text/html": [
       "<div>\n",
       "<style scoped>\n",
       "    .dataframe tbody tr th:only-of-type {\n",
       "        vertical-align: middle;\n",
       "    }\n",
       "\n",
       "    .dataframe tbody tr th {\n",
       "        vertical-align: top;\n",
       "    }\n",
       "\n",
       "    .dataframe thead th {\n",
       "        text-align: right;\n",
       "    }\n",
       "</style>\n",
       "<table border=\"1\" class=\"dataframe\">\n",
       "  <thead>\n",
       "    <tr style=\"text-align: right;\">\n",
       "      <th></th>\n",
       "      <th>Age</th>\n",
       "    </tr>\n",
       "  </thead>\n",
       "  <tbody>\n",
       "    <tr>\n",
       "      <th>count</th>\n",
       "      <td>4.00</td>\n",
       "    </tr>\n",
       "    <tr>\n",
       "      <th>mean</th>\n",
       "      <td>26.25</td>\n",
       "    </tr>\n",
       "    <tr>\n",
       "      <th>std</th>\n",
       "      <td>3.50</td>\n",
       "    </tr>\n",
       "    <tr>\n",
       "      <th>min</th>\n",
       "      <td>22.00</td>\n",
       "    </tr>\n",
       "    <tr>\n",
       "      <th>25%</th>\n",
       "      <td>24.25</td>\n",
       "    </tr>\n",
       "    <tr>\n",
       "      <th>50%</th>\n",
       "      <td>26.50</td>\n",
       "    </tr>\n",
       "    <tr>\n",
       "      <th>75%</th>\n",
       "      <td>28.50</td>\n",
       "    </tr>\n",
       "    <tr>\n",
       "      <th>max</th>\n",
       "      <td>30.00</td>\n",
       "    </tr>\n",
       "  </tbody>\n",
       "</table>\n",
       "</div>"
      ],
      "text/plain": [
       "         Age\n",
       "count   4.00\n",
       "mean   26.25\n",
       "std     3.50\n",
       "min    22.00\n",
       "25%    24.25\n",
       "50%    26.50\n",
       "75%    28.50\n",
       "max    30.00"
      ]
     },
     "execution_count": 5,
     "metadata": {},
     "output_type": "execute_result"
    }
   ],
   "source": [
    "df.describe()"
   ]
  },
  {
   "cell_type": "code",
   "execution_count": 6,
   "id": "896b1cbc-86f9-4bdd-84bc-4239afff7679",
   "metadata": {},
   "outputs": [
    {
     "name": "stdout",
     "output_type": "stream",
     "text": [
      "<class 'pandas.core.frame.DataFrame'>\n",
      "RangeIndex: 4 entries, 0 to 3\n",
      "Data columns (total 3 columns):\n",
      " #   Column  Non-Null Count  Dtype \n",
      "---  ------  --------------  ----- \n",
      " 0   Name    4 non-null      object\n",
      " 1   Age     4 non-null      int64 \n",
      " 2   City    4 non-null      object\n",
      "dtypes: int64(1), object(2)\n",
      "memory usage: 224.0+ bytes\n"
     ]
    }
   ],
   "source": [
    "df.info()"
   ]
  },
  {
   "cell_type": "code",
   "execution_count": 7,
   "id": "97d447e7-55d4-48bf-8079-8089678a9fc3",
   "metadata": {},
   "outputs": [
    {
     "data": {
      "text/plain": [
       "Name       Alice\n",
       "Age           25\n",
       "City    New York\n",
       "Name: 0, dtype: object"
      ]
     },
     "execution_count": 7,
     "metadata": {},
     "output_type": "execute_result"
    }
   ],
   "source": [
    "df.loc[0]"
   ]
  },
  {
   "cell_type": "code",
   "execution_count": 8,
   "id": "4c79eacf-e287-4292-90ce-1821683451c5",
   "metadata": {},
   "outputs": [
    {
     "data": {
      "text/html": [
       "<div>\n",
       "<style scoped>\n",
       "    .dataframe tbody tr th:only-of-type {\n",
       "        vertical-align: middle;\n",
       "    }\n",
       "\n",
       "    .dataframe tbody tr th {\n",
       "        vertical-align: top;\n",
       "    }\n",
       "\n",
       "    .dataframe thead th {\n",
       "        text-align: right;\n",
       "    }\n",
       "</style>\n",
       "<table border=\"1\" class=\"dataframe\">\n",
       "  <thead>\n",
       "    <tr style=\"text-align: right;\">\n",
       "      <th></th>\n",
       "      <th>Name</th>\n",
       "      <th>Age</th>\n",
       "      <th>City</th>\n",
       "    </tr>\n",
       "  </thead>\n",
       "  <tbody>\n",
       "    <tr>\n",
       "      <th>1</th>\n",
       "      <td>Bob</td>\n",
       "      <td>30</td>\n",
       "      <td>London</td>\n",
       "    </tr>\n",
       "    <tr>\n",
       "      <th>2</th>\n",
       "      <td>Charlie</td>\n",
       "      <td>22</td>\n",
       "      <td>Paris</td>\n",
       "    </tr>\n",
       "    <tr>\n",
       "      <th>3</th>\n",
       "      <td>David</td>\n",
       "      <td>28</td>\n",
       "      <td>Tokyo</td>\n",
       "    </tr>\n",
       "  </tbody>\n",
       "</table>\n",
       "</div>"
      ],
      "text/plain": [
       "      Name  Age    City\n",
       "1      Bob   30  London\n",
       "2  Charlie   22   Paris\n",
       "3    David   28   Tokyo"
      ]
     },
     "execution_count": 8,
     "metadata": {},
     "output_type": "execute_result"
    }
   ],
   "source": [
    "df.drop(0)"
   ]
  },
  {
   "cell_type": "code",
   "execution_count": 9,
   "id": "b27879bb-48c4-476d-9d25-367451d1afae",
   "metadata": {},
   "outputs": [
    {
     "data": {
      "text/plain": [
       "City\n",
       "London      30.0\n",
       "New York    25.0\n",
       "Paris       22.0\n",
       "Tokyo       28.0\n",
       "Name: Age, dtype: float64"
      ]
     },
     "execution_count": 9,
     "metadata": {},
     "output_type": "execute_result"
    }
   ],
   "source": [
    "df.groupby('City')['Age'].mean()"
   ]
  },
  {
   "cell_type": "code",
   "execution_count": 22,
   "id": "f74b3cf4-fda9-4a74-8833-9efd426d7481",
   "metadata": {},
   "outputs": [
    {
     "data": {
      "text/html": [
       "<div>\n",
       "<style scoped>\n",
       "    .dataframe tbody tr th:only-of-type {\n",
       "        vertical-align: middle;\n",
       "    }\n",
       "\n",
       "    .dataframe tbody tr th {\n",
       "        vertical-align: top;\n",
       "    }\n",
       "\n",
       "    .dataframe thead th {\n",
       "        text-align: right;\n",
       "    }\n",
       "</style>\n",
       "<table border=\"1\" class=\"dataframe\">\n",
       "  <thead>\n",
       "    <tr style=\"text-align: right;\">\n",
       "      <th></th>\n",
       "      <th>Name_x</th>\n",
       "      <th>Age_x</th>\n",
       "      <th>City</th>\n",
       "      <th>Name_y</th>\n",
       "      <th>Age_y</th>\n",
       "      <th>Gender</th>\n",
       "    </tr>\n",
       "  </thead>\n",
       "  <tbody>\n",
       "    <tr>\n",
       "      <th>0</th>\n",
       "      <td>Alice</td>\n",
       "      <td>25</td>\n",
       "      <td>New York</td>\n",
       "      <td>BOB</td>\n",
       "      <td>25</td>\n",
       "      <td>Male</td>\n",
       "    </tr>\n",
       "    <tr>\n",
       "      <th>1</th>\n",
       "      <td>Bob</td>\n",
       "      <td>30</td>\n",
       "      <td>London</td>\n",
       "      <td>Alice</td>\n",
       "      <td>30</td>\n",
       "      <td>Female</td>\n",
       "    </tr>\n",
       "    <tr>\n",
       "      <th>2</th>\n",
       "      <td>Charlie</td>\n",
       "      <td>22</td>\n",
       "      <td>Paris</td>\n",
       "      <td>Claire</td>\n",
       "      <td>27</td>\n",
       "      <td>Female</td>\n",
       "    </tr>\n",
       "  </tbody>\n",
       "</table>\n",
       "</div>"
      ],
      "text/plain": [
       "    Name_x  Age_x      City  Name_y  Age_y  Gender\n",
       "0    Alice     25  New York     BOB     25    Male\n",
       "1      Bob     30    London   Alice     30  Female\n",
       "2  Charlie     22     Paris  Claire     27  Female"
      ]
     },
     "execution_count": 22,
     "metadata": {},
     "output_type": "execute_result"
    }
   ],
   "source": [
    "df.merge(new_var,left_index=True,right_index=True)"
   ]
  },
  {
   "cell_type": "markdown",
   "id": "5d2eebd1-bfdd-4655-8097-6d87fe0bbc78",
   "metadata": {},
   "source": [
    "# Q6. Which of the following is mutable in nature Series, DataFrame, Panel?"
   ]
  },
  {
   "cell_type": "code",
   "execution_count": null,
   "id": "b7245193-4d77-4340-945a-957a10b48d09",
   "metadata": {},
   "outputs": [],
   "source": [
    "In Nature , the DataFrame and Series are mutable.and they can be changed but on the other Hand Panel is not mutable. "
   ]
  },
  {
   "cell_type": "markdown",
   "id": "07400435-f026-415d-b106-dbe4af6e309e",
   "metadata": {},
   "source": [
    "# Q7. Create a DataFrame using multiple Series. Explain with an example."
   ]
  },
  {
   "cell_type": "code",
   "execution_count": 36,
   "id": "fc29b898-47f8-409d-b906-ced490baacd1",
   "metadata": {},
   "outputs": [
    {
     "name": "stdout",
     "output_type": "stream",
     "text": [
      "     Name  Class Subject\n",
      "0   Rahul     10     PCM\n",
      "1   Pintu     10     PCM\n",
      "2   Gopal     10     PCM\n",
      "3  Mahesh     10     PCM\n"
     ]
    }
   ],
   "source": [
    "# Answer7.\n",
    "# Creating three Series representing Students data.\n",
    "import pandas as pd\n",
    "Name = pd.Series(['Rahul','Pintu','Gopal','Mahesh'])\n",
    "Class = pd.Series([10,10,10,10])\n",
    "Subject = pd.Series(['PCM','PCM','PCM','PCM'])\n",
    "\n",
    "# Creating a DataFrame using the three Series\n",
    "\n",
    "std_details = pd.DataFrame({'Name':Name,'Class':Class,'Subject':Subject})\n",
    "print(std_details)"
   ]
  }
 ],
 "metadata": {
  "kernelspec": {
   "display_name": "Python 3 (ipykernel)",
   "language": "python",
   "name": "python3"
  },
  "language_info": {
   "codemirror_mode": {
    "name": "ipython",
    "version": 3
   },
   "file_extension": ".py",
   "mimetype": "text/x-python",
   "name": "python",
   "nbconvert_exporter": "python",
   "pygments_lexer": "ipython3",
   "version": "3.10.8"
  }
 },
 "nbformat": 4,
 "nbformat_minor": 5
}
